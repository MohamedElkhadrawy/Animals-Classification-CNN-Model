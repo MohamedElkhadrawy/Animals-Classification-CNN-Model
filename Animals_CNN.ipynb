{
  "nbformat": 4,
  "nbformat_minor": 0,
  "metadata": {
    "colab": {
      "name": "Animals CNN.ipynb",
      "provenance": [],
      "private_outputs": true,
      "collapsed_sections": [
        "kyQ12pgTZFdJ",
        "k1XFmSoNcQzU",
        "eva2JhE-AAbT"
      ]
    },
    "kernelspec": {
      "name": "python3",
      "display_name": "Python 3"
    },
    "language_info": {
      "name": "python"
    },
    "accelerator": "GPU"
  },
  "cells": [
    {
      "cell_type": "markdown",
      "source": [
        "# **Downloading the dataset using kaggle API**"
      ],
      "metadata": {
        "id": "0UaFMLT9Mfpf"
      }
    },
    {
      "cell_type": "code",
      "source": [
        "!pip install -q kaggle"
      ],
      "metadata": {
        "id": "7-wveRszMkEj"
      },
      "execution_count": null,
      "outputs": []
    },
    {
      "cell_type": "code",
      "source": [
        "from google.colab import files"
      ],
      "metadata": {
        "id": "8mm0ZRwRMwqw"
      },
      "execution_count": null,
      "outputs": []
    },
    {
      "cell_type": "code",
      "source": [
        "files.upload()"
      ],
      "metadata": {
        "id": "aQpSHeocNAHT"
      },
      "execution_count": null,
      "outputs": []
    },
    {
      "cell_type": "code",
      "source": [
        " !mkdir ~/.kaggle"
      ],
      "metadata": {
        "id": "EyEfyck_NCwX"
      },
      "execution_count": null,
      "outputs": []
    },
    {
      "cell_type": "code",
      "source": [
        "# copy the json file to the folder .kaggle in the root directory\n",
        "!cp kaggle.json ~/.kaggle/"
      ],
      "metadata": {
        "id": "g2p1Th2gNJkh"
      },
      "execution_count": null,
      "outputs": []
    },
    {
      "cell_type": "code",
      "metadata": {
        "id": "nWxYqrrnHCy1"
      },
      "source": [
        "# change folder permissions to be able to read and write\n",
        "!chmod 600 ~/.kaggle/kaggle.json"
      ],
      "execution_count": null,
      "outputs": []
    },
    {
      "cell_type": "code",
      "source": [
        "!pwd"
      ],
      "metadata": {
        "id": "KJ05v4gHNW06"
      },
      "execution_count": null,
      "outputs": []
    },
    {
      "cell_type": "code",
      "source": [
        "!mkdir dataset"
      ],
      "metadata": {
        "id": "qiKttbccNWu7"
      },
      "execution_count": null,
      "outputs": []
    },
    {
      "cell_type": "code",
      "source": [
        "%cd /content/dataset"
      ],
      "metadata": {
        "id": "cOCdfRV5Ne1U"
      },
      "execution_count": null,
      "outputs": []
    },
    {
      "cell_type": "code",
      "source": [
        "!pwd"
      ],
      "metadata": {
        "id": "fmo1akMzNiBY"
      },
      "execution_count": null,
      "outputs": []
    },
    {
      "cell_type": "code",
      "source": [
        "# https://www.kaggle.com/alessiocorrado99/animals10\n",
        "!kaggle datasets download -d alessiocorrado99/animals10"
      ],
      "metadata": {
        "id": "bAb_d92rNmTF"
      },
      "execution_count": null,
      "outputs": []
    },
    {
      "cell_type": "markdown",
      "source": [
        "# **Unzipping the dataset**"
      ],
      "metadata": {
        "id": "9GVBMr5EN7Yt"
      }
    },
    {
      "cell_type": "code",
      "source": [
        "!unzip -x /content/dataset/animals10.zip"
      ],
      "metadata": {
        "id": "ToMAhx-ANue7"
      },
      "execution_count": null,
      "outputs": []
    },
    {
      "cell_type": "code",
      "source": [
        "%cd /content/dataset/raw-img"
      ],
      "metadata": {
        "id": "21_Z_2xnOdY1"
      },
      "execution_count": null,
      "outputs": []
    },
    {
      "cell_type": "code",
      "source": [
        "import os"
      ],
      "metadata": {
        "id": "nH5cN5INPlZR"
      },
      "execution_count": null,
      "outputs": []
    },
    {
      "cell_type": "code",
      "source": [
        "print(f\"We have a total number of {len(os.listdir('./'))} classes\")"
      ],
      "metadata": {
        "id": "NcBGNQyUP80j"
      },
      "execution_count": null,
      "outputs": []
    },
    {
      "cell_type": "code",
      "source": [
        "for folder in os.listdir('./'):\n",
        "  images = [x for x in os.listdir(f'./{folder}') if (x.endswith('.jpg') or x.endswith('.jpeg'))]\n",
        "  print(f'{folder} : {len(images)} images')"
      ],
      "metadata": {
        "id": "I8n2B0hCQWNT"
      },
      "execution_count": null,
      "outputs": []
    },
    {
      "cell_type": "markdown",
      "source": [
        "# **Reading and showing the image**"
      ],
      "metadata": {
        "id": "kyQ12pgTZFdJ"
      }
    },
    {
      "cell_type": "code",
      "source": [
        "import cv2 as cv\n",
        "from google.colab.patches import cv2_imshow"
      ],
      "metadata": {
        "id": "c90QmHDsY7hw"
      },
      "execution_count": null,
      "outputs": []
    },
    {
      "cell_type": "code",
      "source": [
        "img = cv.imread('/content/dataset/raw-img/pecora/OIP-1E6UPBzw9JX-ysAKA8VuUQHaFj.jpeg')"
      ],
      "metadata": {
        "id": "ire1cvL7ZLQD"
      },
      "execution_count": null,
      "outputs": []
    },
    {
      "cell_type": "code",
      "source": [
        "cv2_imshow(img)"
      ],
      "metadata": {
        "id": "EzfHU9MHZvKX"
      },
      "execution_count": null,
      "outputs": []
    },
    {
      "cell_type": "code",
      "source": [
        "img.shape"
      ],
      "metadata": {
        "id": "tfgpgJMrZzoH"
      },
      "execution_count": null,
      "outputs": []
    },
    {
      "cell_type": "code",
      "source": [
        " img_resized = cv.resize(img, (128, 64))"
      ],
      "metadata": {
        "id": "dAedZ1-KbNv1"
      },
      "execution_count": null,
      "outputs": []
    },
    {
      "cell_type": "code",
      "source": [
        "img_resized.shape"
      ],
      "metadata": {
        "id": "EzaEC81UbSjO"
      },
      "execution_count": null,
      "outputs": []
    },
    {
      "cell_type": "code",
      "source": [
        "cv2_imshow(img_resized)"
      ],
      "metadata": {
        "id": "_TsJDnNMbYs0"
      },
      "execution_count": null,
      "outputs": []
    },
    {
      "cell_type": "code",
      "source": [
        "img = cv.imread('/content/dataset/raw-img/pecora/OIP-1E6UPBzw9JX-ysAKA8VuUQHaFj.jpeg', 0)"
      ],
      "metadata": {
        "id": "Qj3LrPkqbhhH"
      },
      "execution_count": null,
      "outputs": []
    },
    {
      "cell_type": "code",
      "source": [
        "cv2_imshow(img)"
      ],
      "metadata": {
        "id": "1vFZh0p3b2Ev"
      },
      "execution_count": null,
      "outputs": []
    },
    {
      "cell_type": "code",
      "source": [
        "img.shape"
      ],
      "metadata": {
        "id": "PQMWFKFcb53f"
      },
      "execution_count": null,
      "outputs": []
    },
    {
      "cell_type": "markdown",
      "source": [
        "# **Data generator**"
      ],
      "metadata": {
        "id": "k1XFmSoNcQzU"
      }
    },
    {
      "cell_type": "code",
      "source": [
        "import tensorflow.keras as keras\n",
        "import numpy as np\n",
        "from sklearn.model_selection import train_test_split"
      ],
      "metadata": {
        "id": "H3koKviScQNY"
      },
      "execution_count": null,
      "outputs": []
    },
    {
      "cell_type": "code",
      "source": [
        "CLASSES_labels = {}\n",
        "for index, folder in enumerate(os.listdir('./')):\n",
        "  CLASSES_labels[folder] = index"
      ],
      "metadata": {
        "id": "l12AXPbGb-kB"
      },
      "execution_count": null,
      "outputs": []
    },
    {
      "cell_type": "code",
      "source": [
        "CLASSES_labels"
      ],
      "metadata": {
        "id": "YEhPzW_QcN7r"
      },
      "execution_count": null,
      "outputs": []
    },
    {
      "cell_type": "code",
      "source": [
        "images_paths = []\n",
        "images_labels = []\n",
        "for folder in os.listdir('./'):\n",
        "  images = [folder + '/' + x for x in os.listdir(f'./{folder}') if (x.endswith('.jpg') or x.endswith('.jpeg'))]\n",
        "  images_paths = images_paths + images\n",
        "  label = CLASSES_labels[folder]\n",
        "  images_labels = images_labels + [label] * len(images)"
      ],
      "metadata": {
        "id": "mwD3iXYS3iVF"
      },
      "execution_count": null,
      "outputs": []
    },
    {
      "cell_type": "code",
      "source": [
        "len(images_paths), len(images_labels)"
      ],
      "metadata": {
        "id": "Diw_9apf6P-c"
      },
      "execution_count": null,
      "outputs": []
    },
    {
      "cell_type": "code",
      "source": [
        "print(list(zip(images_paths[::1000], images_labels[::1000])))"
      ],
      "metadata": {
        "id": "J_NrNQuw662e"
      },
      "execution_count": null,
      "outputs": []
    },
    {
      "cell_type": "code",
      "source": [
        "# train test split\n",
        "images_paths_train, images_paths_test, images_labels_train, images_labels_test = train_test_split(images_paths, images_labels, test_size=0.1, stratify=images_labels, random_state=17)\n",
        "images_paths_train, images_paths_validation, images_labels_train, images_labels_validation = train_test_split(images_paths_train, images_labels_train, test_size=0.1, stratify=images_labels_train, random_state=17)"
      ],
      "metadata": {
        "id": "5AdX6Gf37CNx"
      },
      "execution_count": null,
      "outputs": []
    },
    {
      "cell_type": "code",
      "source": [
        "len(images_paths_train), len(images_paths_validation), len(images_paths_test)"
      ],
      "metadata": {
        "id": "EWqaYqLR8Sxo"
      },
      "execution_count": null,
      "outputs": []
    },
    {
      "cell_type": "code",
      "source": [
        "# data generator\n",
        "class DataGenerator(keras.utils.Sequence):\n",
        "  'Generates data for Keras'\n",
        "  def __init__(self, list_IDs, labels, batch_size=16, dim=(64,128), n_channels=3,\n",
        "              n_classes=10, shuffle=True):\n",
        "    'Initialization'\n",
        "    self.dim = dim\n",
        "    self.batch_size = batch_size\n",
        "    self.labels = labels\n",
        "    self.list_IDs = list_IDs\n",
        "    self.n_channels = n_channels\n",
        "    self.n_classes = n_classes\n",
        "    self.shuffle = shuffle\n",
        "    self.on_epoch_end()\n",
        "\n",
        "  def __len__(self):\n",
        "    'Denotes the number of steps per epoch'\n",
        "    return int(np.floor(len(self.list_IDs) / self.batch_size))\n",
        "\n",
        "  def __getitem__(self, index):\n",
        "    'Generate one batch of data'\n",
        "    # Generate indexes of the batch\n",
        "    indexes = self.indexes[index*self.batch_size:(index+1)*self.batch_size]\n",
        "\n",
        "    # Find list of IDs\n",
        "    list_IDs_temp = [self.list_IDs[k] for k in indexes]\n",
        "    list_labels_temp = [self.labels[k] for k in indexes]\n",
        "\n",
        "    # Generate data\n",
        "    X, y = self.__data_generation(list_IDs_temp, list_labels_temp)\n",
        "\n",
        "    return X, y\n",
        "\n",
        "  def on_epoch_end(self):\n",
        "    'Updates indexes after each epoch'\n",
        "    self.indexes = np.arange(len(self.list_IDs))\n",
        "    if self.shuffle == True:\n",
        "        np.random.shuffle(self.indexes)\n",
        "\n",
        "  def __data_generation(self, list_IDs_temp, list_labels_temp):\n",
        "    'Generates data containing batch_size samples' # X : (n_samples, *dim, n_channels)\n",
        "    # Initialization\n",
        "    X = np.empty((self.batch_size, *self.dim, self.n_channels))\n",
        "    y = np.empty((self.batch_size), dtype=int)\n",
        "\n",
        "    # Generate data\n",
        "    for i, ID in enumerate(list_IDs_temp):\n",
        "        # Store sample\n",
        "        img = cv.imread(ID)\n",
        "        img_resized = cv.resize(img, self.dim[::-1])          \n",
        "        X[i,] = img_resized\n",
        "\n",
        "        # Store class\n",
        "        y[i] = list_labels_temp[i]\n",
        "\n",
        "    return X, keras.utils.to_categorical(y, num_classes=self.n_classes)"
      ],
      "metadata": {
        "id": "fFMrv41Y965v"
      },
      "execution_count": null,
      "outputs": []
    },
    {
      "cell_type": "code",
      "source": [
        "# generated data train test split\n",
        "train_generator = DataGenerator(list_IDs= images_paths_train, labels= images_labels_train)\n",
        "validation_generator = DataGenerator(list_IDs= images_paths_validation, labels= images_labels_validation)\n",
        "test_generator = DataGenerator(list_IDs= images_paths_test, labels= images_labels_test)"
      ],
      "metadata": {
        "id": "HyClCGZ4_Yw4"
      },
      "execution_count": null,
      "outputs": []
    },
    {
      "cell_type": "code",
      "source": [
        "CLASSES_labels"
      ],
      "metadata": {
        "id": "LfgPX87H_YtD"
      },
      "execution_count": null,
      "outputs": []
    },
    {
      "cell_type": "code",
      "source": [
        "# make sure everything works fine\n",
        "for images, labels in train_generator:\n",
        "  print(images.shape)\n",
        "  print(labels.shape)\n",
        "  for index in range(len(labels)):\n",
        "    cv2_imshow(images[index])\n",
        "    print(labels[index])\n",
        "  break"
      ],
      "metadata": {
        "id": "A2TIXG9r_YqQ"
      },
      "execution_count": null,
      "outputs": []
    },
    {
      "cell_type": "markdown",
      "source": [
        "# **Model**"
      ],
      "metadata": {
        "id": "eva2JhE-AAbT"
      }
    },
    {
      "cell_type": "code",
      "source": [
        "import tensorflow as tf\n",
        "from tensorflow.keras.layers import BatchNormalization, Dropout, Dense, Conv2D, MaxPooling2D, Flatten, Input\n",
        "from tensorflow.keras import optimizers\n",
        "from tensorflow.keras.callbacks import ModelCheckpoint"
      ],
      "metadata": {
        "id": "lrm2mEkY_Yk3"
      },
      "execution_count": null,
      "outputs": []
    },
    {
      "cell_type": "code",
      "source": [
        "model = tf.keras.Sequential()\n",
        "model.add(Input(shape=(64,128, 3)))\n",
        "model.add(Conv2D(filters=128, kernel_size=(3, 3), activation='relu'))\n",
        "model.add(Dropout(0.2))\n",
        "model.add(BatchNormalization())\n",
        "model.add(Conv2D(filters=128, kernel_size=(3, 3), activation='relu'))\n",
        "model.add(MaxPooling2D((2, 2)))\n",
        "model.add(Dropout(0.2))\n",
        "model.add(BatchNormalization())\n",
        "model.add(Conv2D(filters=256, kernel_size=(3, 3), activation='relu'))\n",
        "model.add(MaxPooling2D((2, 2)))\n",
        "model.add(Dropout(0.2))\n",
        "model.add(BatchNormalization())\n",
        "model.add(Conv2D(filters=512, kernel_size=(3, 3), activation='relu'))\n",
        "model.add(MaxPooling2D((2, 2)))\n",
        "model.add(Dropout(0.2))\n",
        "model.add(BatchNormalization())\n",
        "model.add(Flatten())\n",
        "model.add(Dense(512, activation='relu'))\n",
        "model.add(Dropout(0.2))\n",
        "model.add(BatchNormalization())\n",
        "model.add(Dense(256, activation='relu'))\n",
        "model.add(Dropout(0.2))\n",
        "model.add(BatchNormalization())\n",
        "model.add(Dense(10, activation='softmax'))\n",
        "\n",
        "model.summary()"
      ],
      "metadata": {
        "id": "uRkpUZJU_Yh-"
      },
      "execution_count": null,
      "outputs": []
    },
    {
      "cell_type": "code",
      "source": [
        "model.compile(optimizer='Adam', loss='categorical_crossentropy', metrics=['accuracy'])"
      ],
      "metadata": {
        "id": "3jBzkdaP_Ye6"
      },
      "execution_count": null,
      "outputs": []
    },
    {
      "cell_type": "code",
      "source": [
        "acc_checkpoint = ModelCheckpoint('best_accuracy.h5', monitor=\"val_accuracy\")"
      ],
      "metadata": {
        "id": "BcxwagMqBEkh"
      },
      "execution_count": null,
      "outputs": []
    },
    {
      "cell_type": "code",
      "source": [
        "model.fit(x = train_generator,\n",
        "          validation_data = validation_generator,\n",
        "          epochs=15,\n",
        "          callbacks=[acc_checkpoint])"
      ],
      "metadata": {
        "id": "SUfJqr_8BIM0"
      },
      "execution_count": null,
      "outputs": []
    }
  ]
}